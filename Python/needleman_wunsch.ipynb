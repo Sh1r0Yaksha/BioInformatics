{
 "cells": [
  {
   "cell_type": "code",
   "execution_count": 30,
   "metadata": {},
   "outputs": [],
   "source": [
    "import numpy as np"
   ]
  },
  {
   "cell_type": "markdown",
   "metadata": {},
   "source": [
    "# Setting up sequence and Parameters"
   ]
  },
  {
   "cell_type": "code",
   "execution_count": 31,
   "metadata": {},
   "outputs": [],
   "source": [
    "seq1 = \"ATTTCTAGGGAAGTTTCAGATGGAGAAATGTGTGGACCATTCAGGCCCTAAAAGTTGGTATAAAGAT\"\n",
    "seq2 = \"AAGCACCGCGTAGGCCAGCTGGCCGGATCCCGCCGTCTGTCATGGCGGCCCCCATCCTGAAAGG\""
   ]
  },
  {
   "cell_type": "code",
   "execution_count": 32,
   "metadata": {},
   "outputs": [],
   "source": [
    "match_score = 1\n",
    "mismatch_score = -1\n",
    "gap_penalty = -2"
   ]
  },
  {
   "cell_type": "markdown",
   "metadata": {},
   "source": [
    "# Functions"
   ]
  },
  {
   "cell_type": "code",
   "execution_count": 33,
   "metadata": {},
   "outputs": [],
   "source": [
    "def check_match(a, b, match_score, mismatch_score):\n",
    "    if (a == b):\n",
    "        return match_score\n",
    "    else:\n",
    "        return mismatch_score"
   ]
  },
  {
   "cell_type": "code",
   "execution_count": 34,
   "metadata": {},
   "outputs": [],
   "source": [
    "def generate_matrix(seq1, seq2, match_score, mismatch_score, gap_penalty):\n",
    "    sim_matrix = np.zeros((len(seq2) + 1, len(seq1) + 1), dtype=int)\n",
    "    for i in range(len(seq2) + 1):\n",
    "        sim_matrix[i, 0] = gap_penalty * i\n",
    "    for j in range(len(seq1) + 1):\n",
    "        sim_matrix[0, j] = gap_penalty * j\n",
    "    for seq1_col in range(len(seq1)):\n",
    "        for seq2_row in range(len(seq2)):\n",
    "            match = sim_matrix[seq2_row, seq1_col] + check_match(seq2[seq2_row], seq1[seq1_col], match_score, mismatch_score)\n",
    "            delete = sim_matrix[seq2_row, seq1_col + 1] + gap_penalty\n",
    "            insert = sim_matrix[seq2_row + 1, seq1_col] + gap_penalty\n",
    "            sim_matrix[seq2_row + 1, seq1_col + 1] = max(match, delete, insert)\n",
    "    return sim_matrix, sim_matrix[-1,-1]"
   ]
  },
  {
   "cell_type": "code",
   "execution_count": 35,
   "metadata": {},
   "outputs": [],
   "source": [
    "def pairwise_align(seq1, seq2, match_score, mismatch_score, gap_penalty):\n",
    "    sim_matrix,score = generate_matrix(seq1, seq2, match_score, mismatch_score, gap_penalty)\n",
    "    AlignmentA = ''\n",
    "    AlignmentB = ''\n",
    "    col_seq1 = len(seq1)\n",
    "    row_seq2 = len(seq2)\n",
    "\n",
    "    while (col_seq1 > 0 or row_seq2 > 0):\n",
    "        if (col_seq1 > 0 and row_seq2 > 0):\n",
    "            diag = sim_matrix[row_seq2, col_seq1] == sim_matrix[row_seq2 - 1, col_seq1 - 1] + check_match(seq2[row_seq2 - 1], seq1[col_seq1 - 1], match_score, mismatch_score)\n",
    "            delete = sim_matrix[row_seq2, col_seq1] == sim_matrix[row_seq2 - 1, col_seq1] + gap_penalty\n",
    "            insert = sim_matrix[row_seq2, col_seq1] == sim_matrix[row_seq2, col_seq1 - 1] + gap_penalty\n",
    "            if (insert):\n",
    "                AlignmentA += seq1[col_seq1 - 1]\n",
    "                AlignmentB += '-'\n",
    "                col_seq1 -= 1\n",
    "            elif (delete):\n",
    "                AlignmentA += '-'\n",
    "                AlignmentB += seq2[row_seq2 - 1]\n",
    "                row_seq2 -= 1\n",
    "            elif (diag):\n",
    "                AlignmentA += seq1[col_seq1 - 1]\n",
    "                AlignmentB += seq2[row_seq2 - 1]\n",
    "                col_seq1 -= 1\n",
    "                row_seq2 -= 1\n",
    "            else:\n",
    "                raise Exception('Stuck in an infinite loop')\n",
    "        elif (col_seq1 > 0):\n",
    "            AlignmentA += seq1[col_seq1 - 1]\n",
    "            AlignmentB += '-'\n",
    "            col_seq1 -= 1\n",
    "        elif (row_seq2 > 0):\n",
    "            AlignmentA += '-'\n",
    "            AlignmentB += seq2[row_seq2 - 1]\n",
    "            row_seq2 -= 1\n",
    "        else:\n",
    "            raise Exception('Stuck in an infinite loop')\n",
    "    AlignmentA = AlignmentA[::-1]\n",
    "    AlignmentB = AlignmentB[::-1]\n",
    "\n",
    "    return AlignmentA, AlignmentB, score"
   ]
  },
  {
   "cell_type": "markdown",
   "metadata": {},
   "source": [
    "# Printing Results"
   ]
  },
  {
   "cell_type": "code",
   "execution_count": 36,
   "metadata": {},
   "outputs": [],
   "source": [
    "align_seq1, align_seq2, score = pairwise_align(seq1, seq2, match_score, mismatch_score, gap_penalty)"
   ]
  },
  {
   "cell_type": "code",
   "execution_count": 37,
   "metadata": {},
   "outputs": [
    {
     "name": "stdout",
     "output_type": "stream",
     "text": [
      "Alignment 1:  ATTTCTAGGGAAGTTTCAGATGGAGAAATGT-GTGGACCATTCA-GGCC-CTAAAAGTTGGTATAAAGAT\n",
      "Alignment 2:  AAGCACCGCGTAGGC-CAGCTGGCCGGATCCCGCCGTCTGT-CATGGCGGCCCCCA-TCC-TG-AAAGG-\n",
      "Score: -19\n"
     ]
    }
   ],
   "source": [
    "print('Alignment 1: ', align_seq1)\n",
    "print('Alignment 2: ', align_seq2)\n",
    "print('Score:',score)"
   ]
  }
 ],
 "metadata": {
  "kernelspec": {
   "display_name": "system",
   "language": "python",
   "name": "python3"
  },
  "language_info": {
   "codemirror_mode": {
    "name": "ipython",
    "version": 3
   },
   "file_extension": ".py",
   "mimetype": "text/x-python",
   "name": "python",
   "nbconvert_exporter": "python",
   "pygments_lexer": "ipython3",
   "version": "3.11.6"
  }
 },
 "nbformat": 4,
 "nbformat_minor": 2
}
